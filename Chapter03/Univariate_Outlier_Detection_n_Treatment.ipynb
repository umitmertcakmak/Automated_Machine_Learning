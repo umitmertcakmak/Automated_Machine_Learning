{
 "cells": [
  {
   "cell_type": "code",
   "execution_count": 1,
   "metadata": {
    "collapsed": true
   },
   "outputs": [],
   "source": [
    "%matplotlib inline\n",
    "import numpy as np\n",
    "import matplotlib.pyplot as plt\n"
   ]
  },
  {
   "cell_type": "code",
   "execution_count": 2,
   "metadata": {
    "collapsed": true
   },
   "outputs": [],
   "source": [
    "number_of_samples = 200\n",
    "outlier_perc = 0.1\n",
    "number_of_outliers = number_of_samples - int ( (1-outlier_perc) * number_of_samples )\n"
   ]
  },
  {
   "cell_type": "code",
   "execution_count": 3,
   "metadata": {},
   "outputs": [
    {
     "data": {
      "text/plain": [
       "<matplotlib.collections.PathCollection at 0x10b585978>"
      ]
     },
     "execution_count": 3,
     "metadata": {},
     "output_type": "execute_result"
    },
    {
     "data": {
      "image/png": "[encoded data removed]",
      "text/plain": [
       "<matplotlib.figure.Figure at 0x10cfdda90>"
      ]
     },
     "metadata": {},
     "output_type": "display_data"
    }
   ],
   "source": [
    "# Normal Data\n",
    "normal_data = np.random.randn(int ( (1-outlier_perc) * number_of_samples ),1)\n",
    "# Inject Outlier data\n",
    "outliers = np.random.uniform(low=-9,high=9,size=(number_of_outliers,1))\n",
    "# Final data set\n",
    "final_data = np.r_[normal_data,outliers]\n",
    "\n",
    "#Check data\n",
    "plt.cla()\n",
    "plt.figure(1)\n",
    "plt.title(\"Dummy Data set\")\n",
    "plt.scatter(range(len(final_data)),final_data,c='b')"
   ]
  },
  {
   "cell_type": "code",
   "execution_count": 4,
   "metadata": {},
   "outputs": [
    {
     "data": {
      "text/plain": [
       "{'boxes': [<matplotlib.lines.Line2D at 0x10d22cf98>],\n",
       " 'caps': [<matplotlib.lines.Line2D at 0x10d244710>,\n",
       "  <matplotlib.lines.Line2D at 0x10d244f28>],\n",
       " 'fliers': [<matplotlib.lines.Line2D at 0x10d24bf98>],\n",
       " 'means': [],\n",
       " 'medians': [<matplotlib.lines.Line2D at 0x10d24b128>],\n",
       " 'whiskers': [<matplotlib.lines.Line2D at 0x10d23a710>,\n",
       "  <matplotlib.lines.Line2D at 0x10d23aeb8>]}"
      ]
     },
     "execution_count": 4,
     "metadata": {},
     "output_type": "execute_result"
    },
    {
     "data": {
      "image/png": "[encoded data removed]",
      "text/plain": [
       "<matplotlib.figure.Figure at 0x10cfc1e48>"
      ]
     },
     "metadata": {},
     "output_type": "display_data"
    }
   ],
   "source": [
    "## Detect Outlier###\n",
    "plt.boxplot(final_data)"
   ]
  },
  {
   "cell_type": "code",
   "execution_count": 5,
   "metadata": {},
   "outputs": [
    {
     "name": "stdout",
     "output_type": "stream",
     "text": [
      "IQR 1.4941959696670106\n"
     ]
    }
   ],
   "source": [
    "## IQR Method Outlier Detection and Removal(filter) ##\n",
    "quartile75, quartile25 = np.percentile(final_data, [75 ,25])\n",
    "## Inter Quartile Range ##\n",
    "IQR = quartile75 - quartile25\n",
    "print(\"IQR\",IQR)"
   ]
  },
  {
   "cell_type": "code",
   "execution_count": 6,
   "metadata": {},
   "outputs": [
    {
     "name": "stdout",
     "output_type": "stream",
     "text": [
      "Max 2.942189924241621\n",
      "Min -3.034593954426421\n"
     ]
    }
   ],
   "source": [
    "## Calculate Min and Max values ##\n",
    "min_value = quartile25 - (IQR*1.5)\n",
    "max_value = quartile75 + (IQR*1.5)\n",
    "print(\"Max\", max_value)\n",
    "print(\"Min\", min_value)"
   ]
  },
  {
   "cell_type": "code",
   "execution_count": 7,
   "metadata": {},
   "outputs": [
    {
     "name": "stderr",
     "output_type": "stream",
     "text": [
      "/Users/sibanjan/anaconda/lib/python3.6/site-packages/ipykernel_launcher.py:3: RuntimeWarning: invalid value encountered in greater\n",
      "  This is separate from the ipykernel package so we can avoid doing imports until\n"
     ]
    }
   ],
   "source": [
    "filtered_values = final_data.copy()\n",
    "filtered_values[ filtered_values< min_value] = np.nan\n",
    "filtered_values[ filtered_values > max_value] = np.nan"
   ]
  },
  {
   "cell_type": "code",
   "execution_count": 8,
   "metadata": {},
   "outputs": [
    {
     "data": {
      "text/plain": [
       "<matplotlib.collections.PathCollection at 0x10d356a20>"
      ]
     },
     "execution_count": 8,
     "metadata": {},
     "output_type": "execute_result"
    },
    {
     "data": {
      "image/png": "[encoded data removed]",
      "text/plain": [
       "<matplotlib.figure.Figure at 0x10d0ae128>"
      ]
     },
     "metadata": {},
     "output_type": "display_data"
    }
   ],
   "source": [
    "#Check filtered data\n",
    "plt.cla()\n",
    "plt.figure(1)\n",
    "plt.title(\"IQR Filtered Dummy Data set\")\n",
    "plt.scatter(range(len(filtered_values)),filtered_values,c='b')"
   ]
  },
  {
   "cell_type": "code",
   "execution_count": 9,
   "metadata": {},
   "outputs": [
    {
     "name": "stderr",
     "output_type": "stream",
     "text": [
      "/Users/sibanjan/anaconda/lib/python3.6/site-packages/statsmodels/compat/pandas.py:56: FutureWarning: The pandas.core.datetools module is deprecated and will be removed in a future version. Please use the pandas.tseries module instead.\n",
      "  from pandas.core import datetools\n"
     ]
    }
   ],
   "source": [
    "##### Winsorization ####\n",
    "\n",
    "from scipy.stats.mstats import winsorize\n",
    "import statsmodels.api as sm"
   ]
  },
  {
   "cell_type": "code",
   "execution_count": 10,
   "metadata": {
    "collapsed": true
   },
   "outputs": [],
   "source": [
    "limit = 0.15\n",
    "winsorized_data = winsorize(final_data,limits=limit)"
   ]
  },
  {
   "cell_type": "code",
   "execution_count": 11,
   "metadata": {},
   "outputs": [
    {
     "data": {
      "text/plain": [
       "<matplotlib.collections.PathCollection at 0x1119f9c50>"
      ]
     },
     "execution_count": 11,
     "metadata": {},
     "output_type": "execute_result"
    },
    {
     "data": {
      "image/png": "[encoded data removed]",
      "text/plain": [
       "<matplotlib.figure.Figure at 0x1119775f8>"
      ]
     },
     "metadata": {},
     "output_type": "display_data"
    }
   ],
   "source": [
    "#Check winsorized data\n",
    "plt.cla()\n",
    "plt.figure(1)\n",
    "plt.title(\"Winsorized Dummy Data set\")\n",
    "plt.scatter(range(len(winsorized_data)),winsorized_data,c='b')"
   ]
  },
  {
   "cell_type": "code",
   "execution_count": 12,
   "metadata": {
    "collapsed": true
   },
   "outputs": [],
   "source": [
    "### Trimming Outliers ###\n",
    "from scipy import stats"
   ]
  },
  {
   "cell_type": "code",
   "execution_count": 13,
   "metadata": {
    "collapsed": true
   },
   "outputs": [],
   "source": [
    "trimmed_data = stats.trimboth(final_data, 0.1)"
   ]
  },
  {
   "cell_type": "code",
   "execution_count": 14,
   "metadata": {},
   "outputs": [
    {
     "data": {
      "text/plain": [
       "<matplotlib.collections.PathCollection at 0x111afd128>"
      ]
     },
     "execution_count": 14,
     "metadata": {},
     "output_type": "execute_result"
    },
    {
     "data": {
      "image/png": "[encoded data removed]",
      "text/plain": [
       "<matplotlib.figure.Figure at 0x111999da0>"
      ]
     },
     "metadata": {},
     "output_type": "display_data"
    }
   ],
   "source": [
    "#Check trimmed data\n",
    "plt.cla()\n",
    "plt.figure(1)\n",
    "plt.title(\"Trimmed Dummy Data set\")\n",
    "plt.scatter(range(len(trimmed_data)),trimmed_data,c='b')"
   ]
  },
  {
   "cell_type": "code",
   "execution_count": null,
   "metadata": {
    "collapsed": true
   },
   "outputs": [],
   "source": []
  }
 ],
 "metadata": {
  "kernelspec": {
   "display_name": "Python 3",
   "language": "python",
   "name": "python3"
  },
  "language_info": {
   "codemirror_mode": {
    "name": "ipython",
    "version": 3
   },
   "file_extension": ".py",
   "mimetype": "text/x-python",
   "name": "python",
   "nbconvert_exporter": "python",
   "pygments_lexer": "ipython3",
   "version": "3.6.3"
  }
 },
 "nbformat": 4,
 "nbformat_minor": 2
}
