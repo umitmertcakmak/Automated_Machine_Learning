{
 "cells": [
  {
   "cell_type": "markdown",
   "metadata": {},
   "source": [
    "## What is AutoML?"
   ]
  },
  {
   "cell_type": "code",
   "execution_count": 1,
   "metadata": {},
   "outputs": [
    {
     "data": {
      "text/plain": [
       "<matplotlib.collections.PathCollection at 0x1228a9860>"
      ]
     },
     "execution_count": 1,
     "metadata": {},
     "output_type": "execute_result"
    },
    {
     "data": {
      "image/png": "[encoded data removed]",
      "text/plain": [
       "<matplotlib.figure.Figure at 0x111f4def0>"
      ]
     },
     "metadata": {},
     "output_type": "display_data"
    }
   ],
   "source": [
    "# Sklearn has convenient modules to create sample data.\n",
    "# make_blobs will help us to create a sample data set suitable for clustering\n",
    "from sklearn.datasets.samples_generator import make_blobs\n",
    "\n",
    "X, y = make_blobs(n_samples=100, centers=2, cluster_std=0.30, random_state=0)\n",
    "\n",
    "# Let's visualize what we have first\n",
    "import matplotlib.pyplot as plt\n",
    "%matplotlib inline\n",
    "import seaborn as sns\n",
    "\n",
    "plt.scatter(X[:, 0], X[:, 1], s=50)"
   ]
  },
  {
   "cell_type": "code",
   "execution_count": 2,
   "metadata": {},
   "outputs": [
    {
     "data": {
      "text/plain": [
       "<matplotlib.collections.PathCollection at 0x123413710>"
      ]
     },
     "execution_count": 2,
     "metadata": {},
     "output_type": "execute_result"
    },
    {
     "data": {
      "image/png": "[encoded data removed]",
      "text/plain": [
       "<matplotlib.figure.Figure at 0x12319ac88>"
      ]
     },
     "metadata": {},
     "output_type": "display_data"
    }
   ],
   "source": [
    "# We will import KMeans model from clustering model family of Sklearn\n",
    "from sklearn.cluster import KMeans\n",
    "\n",
    "k_means = KMeans(n_clusters=2)\n",
    "k_means.fit(X)\n",
    "predictions = k_means.predict(X)\n",
    "\n",
    "# Let's plot the predictions\n",
    "plt.scatter(X[:, 0], X[:, 1], c=predictions, cmap='brg')"
   ]
  },
  {
   "cell_type": "code",
   "execution_count": 3,
   "metadata": {},
   "outputs": [
    {
     "data": {
      "text/plain": [
       "{'algorithm': 'auto',\n",
       " 'copy_x': True,\n",
       " 'init': 'k-means++',\n",
       " 'max_iter': 300,\n",
       " 'n_clusters': 2,\n",
       " 'n_init': 10,\n",
       " 'n_jobs': 1,\n",
       " 'precompute_distances': 'auto',\n",
       " 'random_state': None,\n",
       " 'tol': 0.0001,\n",
       " 'verbose': 0}"
      ]
     },
     "execution_count": 3,
     "metadata": {},
     "output_type": "execute_result"
    }
   ],
   "source": [
    "k_means.get_params()"
   ]
  },
  {
   "cell_type": "markdown",
   "metadata": {},
   "source": [
    "## Featuretools"
   ]
  },
  {
   "cell_type": "code",
   "execution_count": 4,
   "metadata": {},
   "outputs": [
    {
     "data": {
      "text/html": [
       "<div>\n",
       "<style>\n",
       "    .dataframe thead tr:only-child th {\n",
       "        text-align: right;\n",
       "    }\n",
       "\n",
       "    .dataframe thead th {\n",
       "        text-align: left;\n",
       "    }\n",
       "\n",
       "    .dataframe tbody tr th {\n",
       "        vertical-align: top;\n",
       "    }\n",
       "</style>\n",
       "<table border=\"1\" class=\"dataframe\">\n",
       "  <thead>\n",
       "    <tr style=\"text-align: right;\">\n",
       "      <th></th>\n",
       "      <th>creation_date</th>\n",
       "      <th>database_id</th>\n",
       "    </tr>\n",
       "  </thead>\n",
       "  <tbody>\n",
       "    <tr>\n",
       "      <th>0</th>\n",
       "      <td>2018-02-01</td>\n",
       "      <td>2234</td>\n",
       "    </tr>\n",
       "    <tr>\n",
       "      <th>1</th>\n",
       "      <td>2017-03-02</td>\n",
       "      <td>1765</td>\n",
       "    </tr>\n",
       "    <tr>\n",
       "      <th>2</th>\n",
       "      <td>2017-05-03</td>\n",
       "      <td>8796</td>\n",
       "    </tr>\n",
       "    <tr>\n",
       "      <th>3</th>\n",
       "      <td>2013-05-12</td>\n",
       "      <td>2237</td>\n",
       "    </tr>\n",
       "    <tr>\n",
       "      <th>4</th>\n",
       "      <td>2012-05-09</td>\n",
       "      <td>3398</td>\n",
       "    </tr>\n",
       "  </tbody>\n",
       "</table>\n",
       "</div>"
      ],
      "text/plain": [
       "  creation_date  database_id\n",
       "0    2018-02-01         2234\n",
       "1    2017-03-02         1765\n",
       "2    2017-05-03         8796\n",
       "3    2013-05-12         2237\n",
       "4    2012-05-09         3398"
      ]
     },
     "execution_count": 4,
     "metadata": {},
     "output_type": "execute_result"
    }
   ],
   "source": [
    "import pandas as pd\n",
    "\n",
    "# First dataset contains the basic information for databases.\n",
    "databases_df = pd.DataFrame({\"database_id\": [2234, 1765, 8796, 2237, 3398],\n",
    "\"creation_date\": [\"2018-02-01\", \"2017-03-02\", \"2017-05-03\", \"2013-05-12\", \"2012-05-09\"]})\n",
    "\n",
    "databases_df.head()"
   ]
  },
  {
   "cell_type": "code",
   "execution_count": 5,
   "metadata": {},
   "outputs": [
    {
     "data": {
      "text/html": [
       "<div>\n",
       "<style>\n",
       "    .dataframe thead tr:only-child th {\n",
       "        text-align: right;\n",
       "    }\n",
       "\n",
       "    .dataframe thead th {\n",
       "        text-align: left;\n",
       "    }\n",
       "\n",
       "    .dataframe tbody tr th {\n",
       "        vertical-align: top;\n",
       "    }\n",
       "</style>\n",
       "<table border=\"1\" class=\"dataframe\">\n",
       "  <thead>\n",
       "    <tr style=\"text-align: right;\">\n",
       "      <th></th>\n",
       "      <th>database_id</th>\n",
       "      <th>transaction_date</th>\n",
       "      <th>transaction_id</th>\n",
       "      <th>transaction_size</th>\n",
       "    </tr>\n",
       "  </thead>\n",
       "  <tbody>\n",
       "    <tr>\n",
       "      <th>0</th>\n",
       "      <td>2234</td>\n",
       "      <td>2018-02-02</td>\n",
       "      <td>26482746</td>\n",
       "      <td>10</td>\n",
       "    </tr>\n",
       "    <tr>\n",
       "      <th>1</th>\n",
       "      <td>1765</td>\n",
       "      <td>2018-03-02</td>\n",
       "      <td>19384752</td>\n",
       "      <td>20</td>\n",
       "    </tr>\n",
       "    <tr>\n",
       "      <th>2</th>\n",
       "      <td>2234</td>\n",
       "      <td>2018-03-02</td>\n",
       "      <td>48571125</td>\n",
       "      <td>30</td>\n",
       "    </tr>\n",
       "    <tr>\n",
       "      <th>3</th>\n",
       "      <td>2237</td>\n",
       "      <td>2018-04-02</td>\n",
       "      <td>78546789</td>\n",
       "      <td>50</td>\n",
       "    </tr>\n",
       "    <tr>\n",
       "      <th>4</th>\n",
       "      <td>1765</td>\n",
       "      <td>2018-04-02</td>\n",
       "      <td>19998765</td>\n",
       "      <td>100</td>\n",
       "    </tr>\n",
       "  </tbody>\n",
       "</table>\n",
       "</div>"
      ],
      "text/plain": [
       "   database_id transaction_date  transaction_id  transaction_size\n",
       "0         2234       2018-02-02        26482746                10\n",
       "1         1765       2018-03-02        19384752                20\n",
       "2         2234       2018-03-02        48571125                30\n",
       "3         2237       2018-04-02        78546789                50\n",
       "4         1765       2018-04-02        19998765               100"
      ]
     },
     "execution_count": 5,
     "metadata": {},
     "output_type": "execute_result"
    }
   ],
   "source": [
    "# Second dataset contains the information of transaction for each database id\n",
    "db_transactions_df = pd.DataFrame({\"transaction_id\": [26482746, 19384752, 48571125, 78546789, 19998765, 26482646, 12484752, 42471125, 75346789, 16498765, 65487547, 23453847, 56756771, 45645667, 23423498, 12335268, 76435357, 34534711, 45656746, 12312987],\n",
    "                \"database_id\": [2234, 1765, 2234, 2237, 1765, 8796, 2237, 8796, 3398, 2237, 3398, 2237, 2234, 8796, 1765, 2234, 2237, 1765, 8796, 2237],\n",
    "                \"transaction_size\": [10, 20, 30, 50, 100, 40, 60, 60, 10, 20, 60, 50, 40, 40, 30, 90, 130, 40, 50, 30],\n",
    "                \"transaction_date\": [\"2018-02-02\", \"2018-03-02\", \"2018-03-02\", \"2018-04-02\", \"2018-04-02\", \"2018-05-02\", \"2018-06-02\", \"2018-06-02\", \"2018-07-02\", \"2018-07-02\", \"2018-01-03\", \"2018-02-03\", \"2018-03-03\", \"2018-04-03\", \"2018-04-03\", \"2018-07-03\", \"2018-07-03\", \"2018-07-03\", \"2018-08-03\", \"2018-08-03\"]})\n",
    "\n",
    "db_transactions_df.head()"
   ]
  },
  {
   "cell_type": "code",
   "execution_count": 6,
   "metadata": {},
   "outputs": [
    {
     "name": "stdout",
     "output_type": "stream",
     "text": [
      "{'databases': (  creation_date  database_id\n",
      "0    2018-02-01         2234\n",
      "1    2017-03-02         1765\n",
      "2    2017-05-03         8796\n",
      "3    2013-05-12         2237\n",
      "4    2012-05-09         3398, 'database_id'), 'transactions': (    database_id transaction_date  transaction_id  transaction_size\n",
      "0          2234       2018-02-02        26482746                10\n",
      "1          1765       2018-03-02        19384752                20\n",
      "2          2234       2018-03-02        48571125                30\n",
      "3          2237       2018-04-02        78546789                50\n",
      "4          1765       2018-04-02        19998765               100\n",
      "5          8796       2018-05-02        26482646                40\n",
      "6          2237       2018-06-02        12484752                60\n",
      "7          8796       2018-06-02        42471125                60\n",
      "8          3398       2018-07-02        75346789                10\n",
      "9          2237       2018-07-02        16498765                20\n",
      "10         3398       2018-01-03        65487547                60\n",
      "11         2237       2018-02-03        23453847                50\n",
      "12         2234       2018-03-03        56756771                40\n",
      "13         8796       2018-04-03        45645667                40\n",
      "14         1765       2018-04-03        23423498                30\n",
      "15         2234       2018-07-03        12335268                90\n",
      "16         2237       2018-07-03        76435357               130\n",
      "17         1765       2018-07-03        34534711                40\n",
      "18         8796       2018-08-03        45656746                50\n",
      "19         2237       2018-08-03        12312987                30, 'transaction_id')}\n"
     ]
    }
   ],
   "source": [
    "# Entities for each of datasets should be defined\n",
    "entities = {\n",
    "\"databases\" : (databases_df, \"database_id\"),\n",
    "\"transactions\" : (db_transactions_df, \"transaction_id\")\n",
    "}\n",
    "\n",
    "# Relationships between tables should also be defined as below\n",
    "relationships = [(\"databases\", \"database_id\", \"transactions\", \"database_id\")]\n",
    "\n",
    "print(entities)"
   ]
  },
  {
   "cell_type": "code",
   "execution_count": 7,
   "metadata": {},
   "outputs": [
    {
     "data": {
      "text/plain": [
       "[<Feature: SUM(transactions.transaction_size)>,\n",
       " <Feature: STD(transactions.transaction_size)>,\n",
       " <Feature: MAX(transactions.transaction_size)>,\n",
       " <Feature: SKEW(transactions.transaction_size)>,\n",
       " <Feature: MIN(transactions.transaction_size)>,\n",
       " <Feature: MEAN(transactions.transaction_size)>,\n",
       " <Feature: COUNT(transactions)>,\n",
       " <Feature: DAY(creation_date)>,\n",
       " <Feature: YEAR(creation_date)>,\n",
       " <Feature: MONTH(creation_date)>,\n",
       " <Feature: WEEKDAY(creation_date)>,\n",
       " <Feature: NUM_UNIQUE(transactions.DAY(transaction_date))>,\n",
       " <Feature: NUM_UNIQUE(transactions.YEAR(transaction_date))>,\n",
       " <Feature: NUM_UNIQUE(transactions.MONTH(transaction_date))>,\n",
       " <Feature: NUM_UNIQUE(transactions.WEEKDAY(transaction_date))>,\n",
       " <Feature: MODE(transactions.DAY(transaction_date))>,\n",
       " <Feature: MODE(transactions.YEAR(transaction_date))>,\n",
       " <Feature: MODE(transactions.MONTH(transaction_date))>,\n",
       " <Feature: MODE(transactions.WEEKDAY(transaction_date))>]"
      ]
     },
     "execution_count": 7,
     "metadata": {},
     "output_type": "execute_result"
    }
   ],
   "source": [
    "# There are 2 entities called ‘databases’ and ‘transactions’\n",
    "# All the pieces that are necessary to engineer features are in place, you can create your feature matrix as below\n",
    "\n",
    "import featuretools as ft\n",
    "\n",
    "feature_matrix_db_transactions, feature_defs = ft.dfs(entities=entities, relationships=relationships, target_entity=\"databases\")\n",
    "\n",
    "feature_defs"
   ]
  },
  {
   "cell_type": "markdown",
   "metadata": {},
   "source": [
    "## Auto-sklearn"
   ]
  },
  {
   "cell_type": "code",
   "execution_count": 8,
   "metadata": {},
   "outputs": [
    {
     "data": {
      "image/png": "[encoded data removed]",
      "text/plain": [
       "<matplotlib.figure.Figure at 0x1241dbda0>"
      ]
     },
     "metadata": {},
     "output_type": "display_data"
    }
   ],
   "source": [
    "# Necessary imports\n",
    "import autosklearn.classification\n",
    "import sklearn.model_selection\n",
    "import sklearn.datasets\n",
    "import sklearn.metrics\n",
    "from sklearn.model_selection import train_test_split\n",
    "\n",
    "# Digits dataset is one of the most popular datasets in machine learning community.\n",
    "# Every example in this datasets represents a 8x8 image of a digit.\n",
    "X, y = sklearn.datasets.load_digits(return_X_y=True)\n",
    "\n",
    "# Let's see the first image. Image is reshaped to 8x8, otherwise it's a vector of size 64.\n",
    "X[0].reshape(8,8)\n",
    "\n",
    "# Let's also plot couple of them\n",
    "import matplotlib.pyplot as plt\n",
    "%matplotlib inline\n",
    "\n",
    "number_of_images = 10\n",
    "images_and_labels = list(zip(X, y))\n",
    "\n",
    "for i, (image, label) in enumerate(images_and_labels[:number_of_images]):\n",
    "    plt.subplot(2, number_of_images, i + 1)\n",
    "    plt.axis('off')\n",
    "    plt.imshow(image.reshape(8,8), cmap=plt.cm.gray_r, interpolation='nearest')\n",
    "    plt.title('%i' % label)\n",
    "\n",
    "plt.show()"
   ]
  },
  {
   "cell_type": "code",
   "execution_count": 9,
   "metadata": {},
   "outputs": [
    {
     "name": "stdout",
     "output_type": "stream",
     "text": [
      "Accuracy score 0.9933333333333333\n"
     ]
    }
   ],
   "source": [
    "# We split our dataset to train and test data\n",
    "X_train, X_test, y_train, y_test = train_test_split(X, y, random_state=1)\n",
    "\n",
    "# Similarly to creating an estimator in Scikit-learn, we create AutoSklearnClassifier\n",
    "automl = autosklearn.classification.AutoSklearnClassifier()\n",
    "\n",
    "# All you need to do is to invoke fit method to start experiment with different feature engineering methods and machine learning models\n",
    "automl.fit(X_train, y_train)\n",
    "\n",
    "# Generating predictions is same as Scikit-learn, you need to invoke predict method.\n",
    "y_hat = automl.predict(X_test)\n",
    "\n",
    "print(\"Accuracy score\", sklearn.metrics.accuracy_score(y_test, y_hat))\n",
    "# Accuracy score 0.98"
   ]
  },
  {
   "cell_type": "markdown",
   "metadata": {},
   "source": [
    "## MLBox"
   ]
  },
  {
   "cell_type": "code",
   "execution_count": 10,
   "metadata": {},
   "outputs": [
    {
     "name": "stderr",
     "output_type": "stream",
     "text": [
      "/Users/umitcakmak/anaconda/lib/python3.6/site-packages/h5py/__init__.py:36: FutureWarning: Conversion of the second argument of issubdtype from `float` to `np.floating` is deprecated. In future, it will be treated as `np.float64 == np.dtype(float).type`.\n",
      "  from ._conv import register_converters as _register_converters\n",
      "Using Theano backend.\n"
     ]
    },
    {
     "name": "stdout",
     "output_type": "stream",
     "text": [
      "GoSales_Tx_NaiveBayes (1).csv\n"
     ]
    }
   ],
   "source": [
    "# Necessary Imports\n",
    "from mlbox.preprocessing import *\n",
    "from mlbox.optimisation import *\n",
    "from mlbox.prediction import *\n",
    "import wget\n",
    "\n",
    "file_link = 'https://apsportal.ibm.com/exchange-api/v1/entries/8044492073eb964f46597b4be06ff5ea/data?accessKey=9561295fa407698694b1e254d0099600'\n",
    "file_name = wget.download(file_link)\n",
    "\n",
    "print(file_name)\n",
    "# GoSales_Tx_NaiveBayes.csv"
   ]
  },
  {
   "cell_type": "code",
   "execution_count": 11,
   "metadata": {},
   "outputs": [
    {
     "data": {
      "text/html": [
       "<div>\n",
       "<style>\n",
       "    .dataframe thead tr:only-child th {\n",
       "        text-align: right;\n",
       "    }\n",
       "\n",
       "    .dataframe thead th {\n",
       "        text-align: left;\n",
       "    }\n",
       "\n",
       "    .dataframe tbody tr th {\n",
       "        vertical-align: top;\n",
       "    }\n",
       "</style>\n",
       "<table border=\"1\" class=\"dataframe\">\n",
       "  <thead>\n",
       "    <tr style=\"text-align: right;\">\n",
       "      <th></th>\n",
       "      <th>PRODUCT_LINE</th>\n",
       "      <th>GENDER</th>\n",
       "      <th>AGE</th>\n",
       "      <th>MARITAL_STATUS</th>\n",
       "      <th>PROFESSION</th>\n",
       "    </tr>\n",
       "  </thead>\n",
       "  <tbody>\n",
       "    <tr>\n",
       "      <th>0</th>\n",
       "      <td>Personal Accessories</td>\n",
       "      <td>M</td>\n",
       "      <td>27</td>\n",
       "      <td>Single</td>\n",
       "      <td>Professional</td>\n",
       "    </tr>\n",
       "    <tr>\n",
       "      <th>1</th>\n",
       "      <td>Personal Accessories</td>\n",
       "      <td>F</td>\n",
       "      <td>39</td>\n",
       "      <td>Married</td>\n",
       "      <td>Other</td>\n",
       "    </tr>\n",
       "    <tr>\n",
       "      <th>2</th>\n",
       "      <td>Mountaineering Equipment</td>\n",
       "      <td>F</td>\n",
       "      <td>39</td>\n",
       "      <td>Married</td>\n",
       "      <td>Other</td>\n",
       "    </tr>\n",
       "    <tr>\n",
       "      <th>3</th>\n",
       "      <td>Personal Accessories</td>\n",
       "      <td>F</td>\n",
       "      <td>56</td>\n",
       "      <td>Unspecified</td>\n",
       "      <td>Hospitality</td>\n",
       "    </tr>\n",
       "    <tr>\n",
       "      <th>4</th>\n",
       "      <td>Golf Equipment</td>\n",
       "      <td>M</td>\n",
       "      <td>45</td>\n",
       "      <td>Married</td>\n",
       "      <td>Retired</td>\n",
       "    </tr>\n",
       "  </tbody>\n",
       "</table>\n",
       "</div>"
      ],
      "text/plain": [
       "               PRODUCT_LINE GENDER  AGE MARITAL_STATUS    PROFESSION\n",
       "0      Personal Accessories      M   27         Single  Professional\n",
       "1      Personal Accessories      F   39        Married         Other\n",
       "2  Mountaineering Equipment      F   39        Married         Other\n",
       "3      Personal Accessories      F   56    Unspecified   Hospitality\n",
       "4            Golf Equipment      M   45        Married       Retired"
      ]
     },
     "execution_count": 11,
     "metadata": {},
     "output_type": "execute_result"
    }
   ],
   "source": [
    "import pandas as pd\n",
    "df = pd.read_csv('GoSales_Tx_NaiveBayes.csv')\n",
    "df.head()"
   ]
  },
  {
   "cell_type": "code",
   "execution_count": null,
   "metadata": {},
   "outputs": [],
   "source": [
    "test_df = df.drop(['PRODUCT_LINE'], axis = 1)\n",
    "\n",
    "# First 300 records saved as test datased\n",
    "test_df[:300].to_csv('test_data.csv')\n",
    "\n",
    "paths = [\"GoSales_Tx_NaiveBayes.csv\", \"test_data.csv\"]\n",
    "target_name = \"PRODUCT_LINE\"\n",
    "\n",
    "rd = Reader(sep = ',')\n",
    "df = rd.train_test_split(paths, target_name)\n",
    "\n",
    "dft = Drift_thresholder()\n",
    "df = dft.fit_transform(df)\n",
    "\n",
    "opt = Optimiser(scoring = 'accuracy', n_folds = 3)\n",
    "opt.evaluate(None, df)\n",
    "\n",
    "space = {\n",
    "        'ne__numerical_strategy':{\"search\":\"choice\", \"space\":[0]},\n",
    "        'ce__strategy':{\"search\":\"choice\",\n",
    "               \"space\":[\"label_encoding\",\"random_projection\", \"entity_embedding\"]},\n",
    "        'fs__threshold':{\"search\":\"uniform\", \"space\":[0.01,0.3]},\n",
    "        'est__max_depth':{\"search\":\"choice\", \"space\":[3,4,5,6,7]}\n",
    "        }\n",
    "\n",
    "best = opt.optimise(space, df,15)\n",
    "\n",
    "predictor = Predictor()\n",
    "predictor.fit_predict(best, df)"
   ]
  },
  {
   "cell_type": "markdown",
   "metadata": {},
   "source": [
    "## TPOT"
   ]
  },
  {
   "cell_type": "code",
   "execution_count": 12,
   "metadata": {},
   "outputs": [
    {
     "name": "stdout",
     "output_type": "stream",
     "text": [
      "Version 0.8.3 of tpot is outdated. Version 0.9.3 was released 3 days ago.\n"
     ]
    },
    {
     "name": "stderr",
     "output_type": "stream",
     "text": [
      "Optimization Progress:  17%|█▋        | 57/330 [02:32<10:19,  2.27s/pipeline] "
     ]
    },
    {
     "name": "stdout",
     "output_type": "stream",
     "text": [
      "Generation 1 - Current best internal CV score: 0.9873759768128435\n"
     ]
    },
    {
     "name": "stderr",
     "output_type": "stream",
     "text": [
      "Optimization Progress:  25%|██▌       | 84/330 [04:06<12:03,  2.94s/pipeline]"
     ]
    },
    {
     "name": "stdout",
     "output_type": "stream",
     "text": [
      "Generation 2 - Current best internal CV score: 0.9873759768128435\n"
     ]
    },
    {
     "name": "stderr",
     "output_type": "stream",
     "text": [
      "Optimization Progress:  33%|███▎      | 110/330 [05:43<10:56,  2.98s/pipeline]"
     ]
    },
    {
     "name": "stdout",
     "output_type": "stream",
     "text": [
      "Generation 3 - Current best internal CV score: 0.9873759768128435\n"
     ]
    },
    {
     "name": "stderr",
     "output_type": "stream",
     "text": [
      "Optimization Progress:  42%|████▏     | 138/330 [06:48<06:43,  2.10s/pipeline]"
     ]
    },
    {
     "name": "stdout",
     "output_type": "stream",
     "text": [
      "Generation 4 - Current best internal CV score: 0.9881194712366353\n"
     ]
    },
    {
     "name": "stderr",
     "output_type": "stream",
     "text": [
      "Optimization Progress:  51%|█████     | 168/330 [08:44<09:58,  3.69s/pipeline]"
     ]
    },
    {
     "name": "stdout",
     "output_type": "stream",
     "text": [
      "Generation 5 - Current best internal CV score: 0.9881194712366353\n"
     ]
    },
    {
     "name": "stderr",
     "output_type": "stream",
     "text": [
      "Optimization Progress:  60%|█████▉    | 197/330 [11:59<12:55,  5.83s/pipeline]"
     ]
    },
    {
     "name": "stdout",
     "output_type": "stream",
     "text": [
      "Generation 6 - Current best internal CV score: 0.9881194712366353\n"
     ]
    },
    {
     "name": "stderr",
     "output_type": "stream",
     "text": [
      "Optimization Progress:  69%|██████▉   | 227/330 [13:22<05:01,  2.93s/pipeline]"
     ]
    },
    {
     "name": "stdout",
     "output_type": "stream",
     "text": [
      "Generation 7 - Current best internal CV score: 0.9881194712366353\n"
     ]
    },
    {
     "name": "stderr",
     "output_type": "stream",
     "text": [
      "Optimization Progress:  77%|███████▋  | 254/330 [14:14<02:08,  1.69s/pipeline]"
     ]
    },
    {
     "name": "stdout",
     "output_type": "stream",
     "text": [
      "Generation 8 - Current best internal CV score: 0.9881194712366353\n"
     ]
    },
    {
     "name": "stderr",
     "output_type": "stream",
     "text": [
      "Optimization Progress:  85%|████████▌ | 281/330 [14:48<01:16,  1.56s/pipeline]"
     ]
    },
    {
     "name": "stdout",
     "output_type": "stream",
     "text": [
      "Generation 9 - Current best internal CV score: 0.9888685349070473\n"
     ]
    },
    {
     "name": "stderr",
     "output_type": "stream",
     "text": [
      "                                                                              "
     ]
    },
    {
     "name": "stdout",
     "output_type": "stream",
     "text": [
      "Generation 10 - Current best internal CV score: 0.9888685349070473\n",
      "\n",
      "Best pipeline: KNeighborsClassifier(DecisionTreeClassifier(input_matrix, DecisionTreeClassifier__criterion=entropy, DecisionTreeClassifier__max_depth=6, DecisionTreeClassifier__min_samples_leaf=2, DecisionTreeClassifier__min_samples_split=2), KNeighborsClassifier__n_neighbors=2, KNeighborsClassifier__p=DEFAULT, KNeighborsClassifier__weights=distance)\n",
      "0.9844444444444445\n"
     ]
    },
    {
     "name": "stderr",
     "output_type": "stream",
     "text": [
      "\r"
     ]
    }
   ],
   "source": [
    "from tpot import TPOTClassifier\n",
    "from sklearn.datasets import load_digits\n",
    "from sklearn.model_selection import train_test_split\n",
    "\n",
    "# Digits dataset that you have used in Auto-sklearn example\n",
    "digits = load_digits()\n",
    "X_train, X_test, y_train, y_test = train_test_split(digits.data, digits.target,\n",
    "                                                    train_size=0.75, test_size=0.25)\n",
    "\n",
    "# You will create your TPOT classifier with commonly used arguments\n",
    "tpot = TPOTClassifier(generations=10, population_size=30, verbosity=2)\n",
    "\n",
    "# When you invoke fit method, TPOT will create generations of populations, seeking best set of parameters. Arguments you have used to create TPOTClassifier such as generaions and population_size will affect the search space and resulting pipeline.\n",
    "tpot.fit(X_train, y_train)\n",
    "\n",
    "print(tpot.score(X_test, y_test))\n",
    "# 0.9834"
   ]
  },
  {
   "cell_type": "code",
   "execution_count": 13,
   "metadata": {},
   "outputs": [],
   "source": [
    "tpot.export('my_pipeline.py')"
   ]
  },
  {
   "cell_type": "code",
   "execution_count": 14,
   "metadata": {},
   "outputs": [
    {
     "name": "stdout",
     "output_type": "stream",
     "text": [
      "import numpy as np\r\n",
      "\r\n",
      "from sklearn.model_selection import train_test_split\r\n",
      "from sklearn.neighbors import KNeighborsClassifier\r\n",
      "from sklearn.pipeline import make_pipeline, make_union\r\n",
      "from sklearn.tree import DecisionTreeClassifier\r\n",
      "from tpot.builtins import StackingEstimator\r\n",
      "\r\n",
      "# NOTE: Make sure that the class is labeled 'class' in the data file\r\n",
      "tpot_data = np.recfromcsv('PATH/TO/DATA/FILE', delimiter='COLUMN_SEPARATOR', dtype=np.float64)\r\n",
      "features = np.delete(tpot_data.view(np.float64).reshape(tpot_data.size, -1), tpot_data.dtype.names.index('class'), axis=1)\r\n",
      "training_features, testing_features, training_target, testing_target = \\\r\n",
      "    train_test_split(features, tpot_data['class'], random_state=42)\r\n",
      "\r\n",
      "exported_pipeline = make_pipeline(\r\n",
      "    StackingEstimator(estimator=DecisionTreeClassifier(criterion=\"entropy\", max_depth=6, min_samples_leaf=2, min_samples_split=2)),\r\n",
      "    KNeighborsClassifier(n_neighbors=2, weights=\"distance\")\r\n",
      ")\r\n",
      "\r\n",
      "exported_pipeline.fit(training_features, training_target)\r\n",
      "results = exported_pipeline.predict(testing_features)\r\n"
     ]
    }
   ],
   "source": [
    "!cat my_pipeline.py"
   ]
  },
  {
   "cell_type": "code",
   "execution_count": null,
   "metadata": {},
   "outputs": [],
   "source": [
    "import numpy as np\n",
    "import pandas as pd\n",
    "from sklearn.model_selection import train_test_split\n",
    "from sklearn.neighbors import KNeighborsClassifier\n",
    "\n",
    "exported_pipeline = make_pipeline(\n",
    "    StackingEstimator(estimator=DecisionTreeClassifier(criterion=\"entropy\", max_depth=6, min_samples_leaf=2, min_samples_split=2)),\n",
    "    KNeighborsClassifier(n_neighbors=2, weights=\"distance\")\n",
    ")\n",
    "\n",
    "exported_pipeline.fit(X_train, y_train)\n",
    "results = exported_pipeline.predict(X_test)"
   ]
  }
 ],
 "metadata": {
  "kernelspec": {
   "display_name": "Python 3",
   "language": "python",
   "name": "python3"
  },
  "language_info": {
   "codemirror_mode": {
    "name": "ipython",
    "version": 3
   },
   "file_extension": ".py",
   "mimetype": "text/x-python",
   "name": "python",
   "nbconvert_exporter": "python",
   "pygments_lexer": "ipython3",
   "version": "3.6.1"
  }
 },
 "nbformat": 4,
 "nbformat_minor": 2
}
